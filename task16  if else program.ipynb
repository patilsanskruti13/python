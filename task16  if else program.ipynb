{
 "cells": [
  {
   "cell_type": "markdown",
   "id": "5afe8be8",
   "metadata": {},
   "source": [
    "Write a Python program to check whether an alphabet is a vowel or consonant.\n",
    "Expected Output:\n",
    "Input a letter of the alphabet: k                                       \n",
    "k is a consonant."
   ]
  },
  {
   "cell_type": "code",
   "execution_count": 3,
   "id": "bc43fd2c",
   "metadata": {},
   "outputs": [
    {
     "name": "stdout",
     "output_type": "stream",
     "text": [
      " letter in vowel\n"
     ]
    }
   ],
   "source": [
    "letter=input(\"enter a letter =\").lower()\n",
    "if letter in ['a','e','i','o','u']:\n",
    "    print(\" letter in vowel\")\n",
    "else:\n",
    "    print(\"letter is consonant\")"
   ]
  },
  {
   "cell_type": "markdown",
   "id": "70b0b8f3",
   "metadata": {},
   "source": [
    "Write a Python program to convert a month name to a number of days.\n",
    "Expected Output:\n",
    "List of months: January, February, March, April, May, June, July, August\n",
    ", September, October, November, December                                \n",
    "Input the name of Month: February                                       \n",
    "No. of days: 28/29 days "
   ]
  },
  {
   "cell_type": "code",
   "execution_count": 4,
   "id": "195dbd51",
   "metadata": {},
   "outputs": [
    {
     "name": "stdout",
     "output_type": "stream",
     "text": [
      "No. of days: 31 days\n"
     ]
    }
   ],
   "source": [
    "month = input(\"Input the name of Month: \").capitalize()\n",
    "if month in [\"January\", \"March\", \"May\", \"July\", \"August\", \"October\", \"December\"]:\n",
    "    print(\"No. of days: 31 days\")\n",
    "elif month in [\"April\", \"June\", \"September\", \"November\"]:\n",
    "    print(\"No. of days: 30 days\")\n",
    "elif month == \"February\":\n",
    "    print(\"No. of days: 28/29 days\")\n",
    "else:\n",
    "    print(\"Invalid month name\")"
   ]
  },
  {
   "cell_type": "markdown",
   "id": "44b993a5",
   "metadata": {},
   "source": [
    "Write a program that asks the user for their weight (kg) and height (m), then calculates their BMI and prints the category:\n",
    "Underweight: < 18.5\n",
    "Normal weight: 18.5 – 24.9\n",
    "Overweight: 25 – 29.9\n",
    "Obese: ≥ 30\n"
   ]
  },
  {
   "cell_type": "code",
   "execution_count": 1,
   "id": "5a59891d",
   "metadata": {},
   "outputs": [
    {
     "name": "stdout",
     "output_type": "stream",
     "text": [
      "Obese\n"
     ]
    }
   ],
   "source": [
    "wt=float(input(\"Enter your weight in kgs=\"))\n",
    "ht=float(input(\"Enter your height in m=\"))\n",
    "\n",
    "bmi=wt/(ht**2)\n",
    "if bmi<18.5:\n",
    "    print(\"Underweight\")\n",
    "elif bmi>=18.5 and bmi<=24.9:\n",
    "    print(\"Normal weight\")\n",
    "elif bmi>=25 and bmi<=29.9:\n",
    "    print(\"Overweight\")  \n",
    "else:\n",
    "    print(\"Obese\")"
   ]
  },
  {
   "cell_type": "markdown",
   "id": "08d39d28",
   "metadata": {},
   "source": [
    "Create a program that checks a username and password:\n",
    "If both match the correct values, print \"Login successful\"\n",
    "If the username is correct but the password is wrong, print \"Incorrect password\"\n",
    "Otherwise, print \"Invalid credentials\"\n"
   ]
  },
  {
   "cell_type": "code",
   "execution_count": 2,
   "id": "23d2cf21",
   "metadata": {},
   "outputs": [
    {
     "name": "stdout",
     "output_type": "stream",
     "text": [
      "Login successful \n"
     ]
    }
   ],
   "source": [
    "c_username=\"sansp13\"\n",
    "c_pass=\"sans123\"\n",
    "\n",
    "username=input(\" Enter your Username=\")\n",
    "passw=input(\" Enter your Password=\")\n",
    "\n",
    "if c_username==username and c_pass==passw:\n",
    "    print(\"Login successful \")\n",
    "elif c_username==username and c_pass!=passw:\n",
    "    print(\"Incorrect password\")\n",
    "else:\n",
    "    print(\"Invalid credentials\")\n"
   ]
  },
  {
   "cell_type": "markdown",
   "id": "030ba5a1",
   "metadata": {},
   "source": [
    "Write a program that takes three side lengths as input and:\n",
    "Validates if a triangle can be formed\n",
    "If yes, determines its type:\n",
    "Equilateral (all sides equal)\n",
    "Isosceles (two sides equal)\n",
    "Scalene (all sides different)\n",
    "A triangle is valid if: a + b > c, a + c > b, b + c > a\n"
   ]
  },
  {
   "cell_type": "code",
   "execution_count": 5,
   "id": "11b3d3a3",
   "metadata": {},
   "outputs": [
    {
     "name": "stdout",
     "output_type": "stream",
     "text": [
      "Isosceles triangle \n"
     ]
    }
   ],
   "source": [
    "a=float(input(\"enter the 1st side=\"))\n",
    "b=float(input(\"enter the 2nd side=\"))\n",
    "c=float(input(\"enter the 3rd side=\"))\n",
    "\n",
    "if a + b > c and a + c > b and b + c > a:\n",
    "    if a==b==c:\n",
    "        print(\"Equilateral triangle\")\n",
    "        \n",
    "    elif a==b or b==c or a==c:\n",
    "        print(\"Isosceles triangle \")\n",
    "        \n",
    "    else:\n",
    "        print(\"Scalene triangle\")\n",
    "else:\n",
    "    print(\"Not valid triangle\")\n"
   ]
  },
  {
   "cell_type": "markdown",
   "id": "871571f5",
   "metadata": {},
   "source": [
    "Write a program that takes an integer (0–9) as input and prints its English word:\n",
    "0 → Zero\n",
    "1 → One\n",
    "...\n",
    "9 → Nine\n",
    "If the number is not between 0 and 9, print \"Out of range\"."
   ]
  },
  {
   "cell_type": "code",
   "execution_count": 8,
   "id": "0194c4d1",
   "metadata": {},
   "outputs": [
    {
     "name": "stdout",
     "output_type": "stream",
     "text": [
      "out of range\n"
     ]
    }
   ],
   "source": [
    "integer=int(input(\"Enter the integer=\"))\n",
    "\n",
    "if integer==1:\n",
    "    print(\"one\")\n",
    "elif integer==2:\n",
    "    print(\"two\")\n",
    "elif integer==3:\n",
    "    print(\"three\")\n",
    "elif integer==4:\n",
    "    print(\"four\")\n",
    "elif integer==5:\n",
    "    print(\"five\")\n",
    "elif integer==6:\n",
    "    print(\"six\")\n",
    "elif integer==7:\n",
    "    print(\"seven\")\n",
    "elif integer==8:\n",
    "    print(\"eight\")\n",
    "elif integer==9:\n",
    "    print(\"nine\")\n",
    "else:\n",
    "    print(\"out of range\")                  \n"
   ]
  }
 ],
 "metadata": {
  "kernelspec": {
   "display_name": "Python 3",
   "language": "python",
   "name": "python3"
  },
  "language_info": {
   "codemirror_mode": {
    "name": "ipython",
    "version": 3
   },
   "file_extension": ".py",
   "mimetype": "text/x-python",
   "name": "python",
   "nbconvert_exporter": "python",
   "pygments_lexer": "ipython3",
   "version": "3.13.7"
  }
 },
 "nbformat": 4,
 "nbformat_minor": 5
}
