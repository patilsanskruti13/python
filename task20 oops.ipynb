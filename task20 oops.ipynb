{
 "cells": [
  {
   "cell_type": "markdown",
   "id": "82a09385",
   "metadata": {},
   "source": [
    "Create a base class Animal with a method speak(). Derive two classes Dog and Cat from Animal and override the speak method to reflect their sounds."
   ]
  },
  {
   "cell_type": "code",
   "execution_count": 13,
   "id": "c2cd8bdb",
   "metadata": {},
   "outputs": [
    {
     "name": "stdout",
     "output_type": "stream",
     "text": [
      "Animals have different sounds\n",
      "dog sound is bark\n",
      "Animals have different sounds\n",
      "cat sound is meow\n"
     ]
    }
   ],
   "source": [
    "class Animal:\n",
    "    def __init__(self):\n",
    "        pass\n",
    "    def speak(self):\n",
    "        print(\"Animals have different sounds\")\n",
    "        \n",
    "class Dog(Animal):\n",
    "    def speak(self):\n",
    "        super().speak()\n",
    "        print(\"dog sound is bark\")\n",
    "        \n",
    "class Cat(Animal):\n",
    "    def speak(self):\n",
    "        super().speak()\n",
    "        print(\"cat sound is meow\")\n",
    "        \n",
    "d=Dog()\n",
    "c=Cat()\n",
    "\n",
    "d.speak()\n",
    "c.speak()"
   ]
  },
  {
   "cell_type": "markdown",
   "id": "5affd0dd",
   "metadata": {},
   "source": [
    " Polymorphism : Create a function describe_pet that takes an object of Animal and calls its speak method, demonstrating polymorphism."
   ]
  },
  {
   "cell_type": "code",
   "execution_count": 16,
   "id": "d42a145e",
   "metadata": {},
   "outputs": [
    {
     "name": "stdout",
     "output_type": "stream",
     "text": [
      "Animals have different sounds\n"
     ]
    }
   ],
   "source": [
    "class Animal:\n",
    "    def __init__(self):\n",
    "        pass\n",
    "    def speak(self):\n",
    "        print(\"Animals have different sounds\")\n",
    "        \n",
    "class A(Animal):\n",
    "    def describe_pet(self):\n",
    "        super().speak()\n",
    "        \n",
    "c=A()\n",
    "c.speak()"
   ]
  },
  {
   "cell_type": "markdown",
   "id": "47e1f8d2",
   "metadata": {},
   "source": [
    "Encapsulation - Protecting Attributes: Implement a class Account with a private attribute balance and provide methods to deposit and withdraw safely, checking for sufficient funds."
   ]
  },
  {
   "cell_type": "code",
   "execution_count": 23,
   "id": "ff8fa26e",
   "metadata": {},
   "outputs": [
    {
     "name": "stdout",
     "output_type": "stream",
     "text": [
      "Deposited $40000. New balance: $60000\n",
      "Withdrew $2000. New balance: $58000\n",
      "balance is = 58000\n"
     ]
    }
   ],
   "source": [
    "class Account:\n",
    "    def __init__(self,balance):\n",
    "        self.__balance=balance\n",
    "        \n",
    "    def deposite(self,amount):\n",
    "        if amount > 0:\n",
    "            self.__balance += amount\n",
    "            print(f\"Deposited ${amount}. New balance: ${self.__balance}\")\n",
    "        else:\n",
    "            print(\"Deposit amount must be positive.\")\n",
    "            \n",
    "    def withdraw(self,amount):\n",
    "        if amount <= 0:\n",
    "            print(\"Withdrawal amount must be positive.\")\n",
    "        elif amount > self.__balance:\n",
    "            print(\"Insufficient funds.\")\n",
    "        else:\n",
    "            self.__balance -= amount\n",
    "            print(f\"Withdrew ${amount}. New balance: ${self.__balance}\")\n",
    "    def get_balance(self):\n",
    "        print(\"balance is =\", self.__balance)\n",
    "    \n",
    "    \n",
    "a=Account(20000)\n",
    "a.deposite(40000)\n",
    "a.withdraw(2000)\n",
    "a.get_balance()\n",
    "        \n",
    "        \n",
    "    "
   ]
  },
  {
   "cell_type": "markdown",
   "id": "98788808",
   "metadata": {},
   "source": [
    "Multiple Inheritance - Create classes Battery and GPS with respective methods charge and location. Derive a SmartPhone class that inherits both functionalities.\n"
   ]
  },
  {
   "cell_type": "code",
   "execution_count": 28,
   "id": "c5a07866",
   "metadata": {},
   "outputs": [
    {
     "name": "stdout",
     "output_type": "stream",
     "text": [
      "Battery is charging... Current location: 37.7749° N, 122.4194° W Using smartphone features.\n",
      "Battery is charging...\n",
      "Current location: 37.7749° N, 122.4194° W\n"
     ]
    }
   ],
   "source": [
    "class Battery :\n",
    "    def __init__(self):\n",
    "        pass\n",
    "    def charge(self):\n",
    "        return \"Battery is charging...\"\n",
    "    \n",
    "class GPS:\n",
    "    def __init__(self):\n",
    "        pass\n",
    "    def location(self):\n",
    "        return \"Current location: 37.7749° N, 122.4194° W\"\n",
    "    \n",
    "class Smartphone(Battery,GPS):\n",
    "    \n",
    "    def __init__(self):\n",
    "        super().__init__()\n",
    "    def use(self):\n",
    "        Battery.charge(self)\n",
    "        GPS.location(self)\n",
    "        charging_status = self.charge()\n",
    "        location_status = self.location()\n",
    "        return f\"{charging_status} {location_status} Using smartphone features.\"\n",
    "        return \"Using smartphone features.\"\n",
    "    \n",
    "c=Smartphone()\n",
    "\n",
    "  \n",
    "print(c.use())        # Calls all three actions\n",
    "print(c.charge())     # Calls Battery method\n",
    "print(c.location())   # Calls GPS method  "
   ]
  },
  {
   "cell_type": "markdown",
   "id": "5cefdf46",
   "metadata": {},
   "source": [
    "Create three classes, class A with the string “Hello ”, class B with the string “World”, and a class C with a method display() that returns a concatenated string “Hello World”"
   ]
  },
  {
   "cell_type": "code",
   "execution_count": 1,
   "id": "9c3a4bd8",
   "metadata": {},
   "outputs": [
    {
     "name": "stdout",
     "output_type": "stream",
     "text": [
      "helloworld\n"
     ]
    }
   ],
   "source": [
    "class A:\n",
    "    def __init__(self):\n",
    "        self.a=\"hello\"\n",
    "        \n",
    "class B:\n",
    "    def __init__(self):\n",
    "        self.b=\"world\"\n",
    "        \n",
    "class C(A,B):\n",
    "    def __init__(self):\n",
    "        A.__init__(self)\n",
    "        B.__init__(self)\n",
    "    def display(self):\n",
    "        print(self.a+self.b)\n",
    "        \n",
    "c=C()\n",
    "c.display()                \n",
    "        "
   ]
  },
  {
   "cell_type": "markdown",
   "id": "45c503ac",
   "metadata": {},
   "source": [
    " Student Grade Calculator: Implement a Student class with attributes for name and a list of marks. Include a method to calculate the average and determine the grade"
   ]
  },
  {
   "cell_type": "code",
   "execution_count": 2,
   "id": "8fe9de5d",
   "metadata": {},
   "outputs": [
    {
     "name": "stdout",
     "output_type": "stream",
     "text": [
      "Student Name: Alice\n",
      "Marks: [85, 90, 78, 92, 88]\n",
      "Average: 86.60\n",
      "Grade: B\n"
     ]
    }
   ],
   "source": [
    "class Student:\n",
    "    def __init__(self, name, marks):\n",
    "        self.name = name\n",
    "        self.marks = marks  # list of marks\n",
    "\n",
    "    # Method to calculate average marks\n",
    "    def calculate_average(self):\n",
    "        if len(self.marks) == 0:\n",
    "            return 0\n",
    "        return sum(self.marks) / len(self.marks)\n",
    "\n",
    "    # Method to determine grade based on average\n",
    "    def determine_grade(self):\n",
    "        avg = self.calculate_average()\n",
    "        if avg >= 90:\n",
    "            return \"A\"\n",
    "        elif avg >= 80:\n",
    "            return \"B\"\n",
    "        elif avg >= 70:\n",
    "            return \"C\"\n",
    "        elif avg >= 60:\n",
    "            return \"D\"\n",
    "        else:\n",
    "            return \"F\"\n",
    "\n",
    "    # Method to display student details\n",
    "    def display_result(self):\n",
    "        print(f\"Student Name: {self.name}\")\n",
    "        print(f\"Marks: {self.marks}\")\n",
    "        print(f\"Average: {self.calculate_average():.2f}\")\n",
    "        print(f\"Grade: {self.determine_grade()}\")\n",
    "\n",
    "\n",
    "# Example usage\n",
    "student1 = Student(\"Alice\", [85, 90, 78, 92, 88])\n",
    "student1.display_result()\n"
   ]
  },
  {
   "cell_type": "markdown",
   "id": "036efc86",
   "metadata": {},
   "source": [
    " Create a Car class with attributes make, model, and year. Include a method to display the details of the car.\n"
   ]
  },
  {
   "cell_type": "code",
   "execution_count": 3,
   "id": "452e2dc6",
   "metadata": {},
   "outputs": [
    {
     "name": "stdout",
     "output_type": "stream",
     "text": [
      "Car Details:\n",
      "Make: Toyota\n",
      "Model: Camry\n",
      "Year: 2022\n"
     ]
    }
   ],
   "source": [
    "class Car:\n",
    "    def __init__(self, make, model, year):\n",
    "        self.make = make\n",
    "        self.model = model\n",
    "        self.year = year\n",
    "\n",
    "    def display_details(self):\n",
    "        print(f\"Car Details:\")\n",
    "        print(f\"Make: {self.make}\")\n",
    "        print(f\"Model: {self.model}\")\n",
    "        print(f\"Year: {self.year}\")\n",
    "\n",
    "car1 = Car(\"Toyota\", \"Camry\", 2022)\n",
    "car1.display_details()\n"
   ]
  },
  {
   "cell_type": "markdown",
   "id": "d00b3cd1",
   "metadata": {},
   "source": [
    "Write a Python class BankAccount with attributes like account_number, balance, date_of_opening and customer_name, and methods like deposit, withdraw, and check_balance.\n"
   ]
  },
  {
   "cell_type": "code",
   "execution_count": null,
   "id": "814401d5",
   "metadata": {},
   "outputs": [],
   "source": [
    "from datetime import date\n",
    "\n",
    "class BankAccount:\n",
    "    def __init__(self, account_number, customer_name, balance=0.0):\n",
    "        self.account_number = account_number\n",
    "        self.customer_name = customer_name\n",
    "        self.balance = balance\n",
    "        self.date_of_opening = date.today()  # Automatically sets today's date\n",
    "\n",
    "    # Method to deposit money\n",
    "    def deposit(self, amount):\n",
    "        if amount > 0:\n",
    "            self.balance += amount\n",
    "            print(f\"${amount} deposited successfully.\")\n",
    "        else:\n",
    "            print(\"Deposit amount must be positive.\")\n",
    "\n",
    "    # Method to withdraw money\n",
    "    def withdraw(self, amount):\n",
    "        if amount <= 0:\n",
    "            print(\"Withdrawal amount must be positive.\")\n",
    "        elif amount > self.balance:\n",
    "            print(\"Insufficient balance.\")\n",
    "        else:\n",
    "            self.balance -= amount\n",
    "            print(f\"${amount} withdrawn successfully.\")\n",
    "\n",
    "    # Method to check current balance\n",
    "    def check_balance(self):\n",
    "        print(f\"Account Balance: ${self.balance:.2f}\")\n",
    "\n",
    "    # Method to display account details\n",
    "    def display_account_details(self):\n",
    "        print(\"\\n--- ACCOUNT DETAILS ---\")\n",
    "        print(f\"Customer Name: {self.customer_name}\")\n",
    "        print(f\"Account Number: {self.account_number}\")\n",
    "        print(f\"Date of Opening: {self.date_of_opening}\")\n",
    "        print(f\"Current Balance: ${self.balance:.2f}\")\n",
    "\n",
    "\n",
    "# Example usage\n",
    "account1 = BankAccount(\"123456789\", \"Alice Johnson\", 500)\n",
    "\n",
    "account1.display_account_details()\n",
    "account1.deposit(250)\n",
    "account1.withdraw(100)\n",
    "account1.check_balance()\n"
   ]
  },
  {
   "cell_type": "markdown",
   "id": "a280dded",
   "metadata": {},
   "source": [
    "Write a Python class Inventory with attributes like item_id, item_name, stock_count, and price, and methods like add_item, update_item, and check_item_details.\n",
    "Use a dictionary to store the item details, where the key is the item_id and the value is a dictionary containing the item_name, stock_count, and price"
   ]
  },
  {
   "cell_type": "code",
   "execution_count": null,
   "id": "3839638d",
   "metadata": {},
   "outputs": [],
   "source": [
    "# class Inventory:\n",
    "#     def __init__(self):\n",
    "#         # Dictionary to store items\n",
    "#         # Format: {item_id: {\"item_name\": ..., \"stock_count\": ..., \"price\": ...}}\n",
    "#         self.items = {}\n",
    "\n",
    "#     # Method to add a new item to inventory\n",
    "#     def add_item(self, item_id, item_name, stock_count, price):\n",
    "#         if item_id in self.items:\n",
    "#             print(f\"Item ID {item_id} already exists. Use update_item to modify it.\")\n",
    "#         else:\n",
    "#             self.items[item_id] = {\n",
    "#                 \"item_name\": item_name,\n",
    "#                 \"stock_count\": stock_count,\n",
    "#                 \"price\": price\n",
    "#             }\n",
    "#             print(f\"Item '{item_name}' added successfully with ID {item_id}.\")\n",
    "\n",
    "#     # Method to update existing item details\n",
    "#     def update_item(self, item_id, item_name=None, stock_count=None, price=None):\n",
    "#         if item_id in self.items:\n",
    "#             if item_name is not None:\n",
    "#                 self.items[item_id][\"item_name\"] = item_name\n",
    "#             if stock_count is not None:\n",
    "#                 self.items[item_id][\"stock_count\"] = stock_count\n",
    "#             if price is not None:\n",
    "#                 self.items[item_id][\"price\"] = price\n",
    "#             print(f\"Item ID {item_id} updated successfully.\")\n",
    "#         else:\n",
    "#             print(f\"Item ID {item_id} not found in inventory.\")\n",
    "\n",
    "#     # Method to check item details\n",
    "#     def check_item_details(self, item_id):\n",
    "#         if item_id in self.items:\n",
    "#             item = self.items[item_id]\n",
    "#             print(\"\\n--- ITEM DETAILS ---\")\n",
    "#             print(f\"Item ID: {item_id}\")\n",
    "#             print(f\"Item Name: {item['item_name']}\")\n",
    "#             print(f\"Stock Count: {item['stock_count']}\")\n",
    "#             print(f\"Price: ${item['price']:.2f}\")\n",
    "#         else:\n",
    "#             print(f\"Item ID {item_id} not found in inventory.\")\n",
    "\n",
    "#     # Optional: Method to display all items\n",
    "#     def display_all_items(self):\n",
    "#         print(\"\\n--- INVENTORY LIST ---\")\n",
    "#         if not self.items:\n",
    "#             print(\"No items in inventory.\")\n",
    "#         else:\n",
    "#             for item_id, details in self.items.items():\n",
    "#                 print(f\"ID: {item_id} | Name: {details['item_name']} | Stock: {details['stock_count']} | Price: ${details['price']:.2f}\")\n",
    "\n",
    "\n",
    "# # Example usage\n",
    "# inventory = Inventory()\n",
    "\n",
    "# # Add items\n",
    "# inventory.add_item(101, \"Laptop\", 10, 999.99)\n",
    "# inventory.add_item(102, \"Mouse\", 50, 19.99)\n",
    "# inventory.add_item(103, \"Keyboard\", 30, 49.99)\n",
    "\n",
    "# # Update an item\n",
    "# inventory.update_item(102, stock_count=45, price=17.99)\n",
    "\n",
    "# # Check item details\n",
    "# inventory.check_item_details(102)\n",
    "\n",
    "# # Display all items\n",
    "# inventory.display_all_items()\n"
   ]
  },
  {
   "cell_type": "markdown",
   "id": "2ccec7cf",
   "metadata": {},
   "source": []
  }
 ],
 "metadata": {
  "kernelspec": {
   "display_name": "Python 3",
   "language": "python",
   "name": "python3"
  },
  "language_info": {
   "codemirror_mode": {
    "name": "ipython",
    "version": 3
   },
   "file_extension": ".py",
   "mimetype": "text/x-python",
   "name": "python",
   "nbconvert_exporter": "python",
   "pygments_lexer": "ipython3",
   "version": "3.13.7"
  }
 },
 "nbformat": 4,
 "nbformat_minor": 5
}
